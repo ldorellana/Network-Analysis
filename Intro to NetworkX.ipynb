{
 "cells": [
  {
   "cell_type": "markdown",
   "id": "6d324ec9-b796-41f0-866a-35a4a38fea66",
   "metadata": {},
   "source": [
    "### Networkx Basics"
   ]
  },
  {
   "cell_type": "code",
   "execution_count": 17,
   "id": "678f564a-434f-4fcf-bd1d-225e9326c513",
   "metadata": {},
   "outputs": [
    {
     "data": {
      "text/plain": [
       "NodeView((1, 2, 'A'))"
      ]
     },
     "execution_count": 17,
     "metadata": {},
     "output_type": "execute_result"
    }
   ],
   "source": [
    "import networkx as nx\n",
    "import datetime \n",
    "\n",
    "# create a graph\n",
    "G = nx.Graph()\n",
    "\n",
    "# add nodes\n",
    "G.add_nodes_from([1, 2, 'A'])\n",
    "\n",
    "# show ndoes\n",
    "G.nodes()"
   ]
  },
  {
   "cell_type": "markdown",
   "id": "5c608d0c-3c3e-4dab-b400-887d89889997",
   "metadata": {},
   "source": [
    "#### Add edges"
   ]
  },
  {
   "cell_type": "code",
   "execution_count": 11,
   "id": "341cc46b-088b-4a17-821f-e9a140b724a4",
   "metadata": {},
   "outputs": [
    {
     "data": {
      "text/plain": [
       "EdgeView([(1, 'A')])"
      ]
     },
     "execution_count": 11,
     "metadata": {},
     "output_type": "execute_result"
    }
   ],
   "source": [
    "# add edges\n",
    "G.add_edge(1,'A')\n",
    "\n",
    "# show edges\n",
    "G.edges()"
   ]
  },
  {
   "cell_type": "markdown",
   "id": "0db2532d-fe48-481b-9186-200682115396",
   "metadata": {},
   "source": [
    "#### Get node data"
   ]
  },
  {
   "cell_type": "code",
   "execution_count": 13,
   "id": "a2e08aae-0e19-4095-8985-1d6d47468ba1",
   "metadata": {},
   "outputs": [
    {
     "data": {
      "text/plain": [
       "NodeDataView({1: {}, 2: {}, 'A': {'value': 32}})"
      ]
     },
     "execution_count": 13,
     "metadata": {},
     "output_type": "execute_result"
    }
   ],
   "source": [
    "# add metadata\n",
    "\n",
    "G.nodes['A']['value'] = 32\n",
    "\n",
    "G.nodes(data=True)"
   ]
  },
  {
   "cell_type": "markdown",
   "id": "4b3fa650-26c0-4595-9f88-52b3ef93911b",
   "metadata": {},
   "source": [
    "#### DiGraph"
   ]
  },
  {
   "cell_type": "code",
   "execution_count": 20,
   "id": "52961b6d-3a7d-41d5-bd6a-8e9c011a3709",
   "metadata": {},
   "outputs": [
    {
     "data": {
      "text/plain": [
       "NodeView((1, 2, 3, 4, 5))"
      ]
     },
     "execution_count": 20,
     "metadata": {},
     "output_type": "execute_result"
    }
   ],
   "source": [
    "T = nx.DiGraph()\n",
    "\n",
    "T.add_nodes_from([1, 2, 3, 4, 5])\n",
    "T.nodes()"
   ]
  },
  {
   "cell_type": "markdown",
   "id": "df8b0533-1f4a-41f9-b29e-7744fef7673c",
   "metadata": {},
   "source": [
    "#### Add edges with data"
   ]
  },
  {
   "cell_type": "code",
   "execution_count": 27,
   "id": "cd361f27-0924-46d4-9052-d7ecc7517427",
   "metadata": {},
   "outputs": [
    {
     "data": {
      "text/plain": [
       "OutEdgeDataView([(1, 3, {'date': datetime.date(2012, 11, 16)}), (1, 4, {'date': datetime.date(2013, 6, 7)}), (1, 5, {'date': datetime.date(2009, 7, 27)})])"
      ]
     },
     "execution_count": 27,
     "metadata": {},
     "output_type": "execute_result"
    }
   ],
   "source": [
    "edges = [(1, 3, {'date': datetime.date(2012, 11, 16)}), \n",
    "          (1, 4, {'date': datetime.date(2013, 6, 7)}), \n",
    "          (1, 5, {'date': datetime.date(2009, 7, 27)})]\n",
    "\n",
    "T.add_edges_from(edges)\n",
    "T.edges(data=True)"
   ]
  },
  {
   "cell_type": "markdown",
   "id": "659c2caa-6d4d-413c-a4e8-80b315b99927",
   "metadata": {},
   "source": [
    "#### Retrive data"
   ]
  },
  {
   "cell_type": "code",
   "execution_count": 34,
   "id": "a8a00fac-9325-4a53-8bf9-9038c82f2fa1",
   "metadata": {},
   "outputs": [
    {
     "data": {
      "text/plain": [
       "datetime.date"
      ]
     },
     "execution_count": 34,
     "metadata": {},
     "output_type": "execute_result"
    }
   ],
   "source": [
    "type(list(T.edges(data=True))[-1][2]['date'])"
   ]
  },
  {
   "cell_type": "markdown",
   "id": "496b0a3c-9be8-43b3-a794-3513202d33cc",
   "metadata": {},
   "source": [
    "#### Add data to edge"
   ]
  },
  {
   "cell_type": "code",
   "execution_count": 38,
   "id": "15ee6535-a771-4488-93cb-6d11abf9a6d8",
   "metadata": {},
   "outputs": [
    {
     "data": {
      "text/plain": [
       "OutEdgeDataView([(1, 3, {'date': datetime.date(2012, 11, 16), 'weight': 5}), (1, 4, {'date': datetime.date(2013, 6, 7)}), (1, 5, {'date': datetime.date(2009, 7, 27)}), (1, 1, {})])"
      ]
     },
     "execution_count": 38,
     "metadata": {},
     "output_type": "execute_result"
    }
   ],
   "source": [
    "T.edges[1,3]['weight'] = 5\n",
    "T.edges(data=True)"
   ]
  },
  {
   "cell_type": "markdown",
   "id": "d2cc653f-bd77-411a-adc5-d4a164c21e38",
   "metadata": {
    "tags": []
   },
   "source": [
    "### Draw Network"
   ]
  },
  {
   "cell_type": "code",
   "execution_count": 36,
   "id": "fc084419-d66c-490d-90d7-07b654e8ee8b",
   "metadata": {},
   "outputs": [
    {
     "data": {
      "image/png": "[encoded data removed]",
      "text/plain": [
       "<Figure size 432x288 with 1 Axes>"
      ]
     },
     "metadata": {},
     "output_type": "display_data"
    }
   ],
   "source": [
    "import matplotlib.pyplot as plt\n",
    "\n",
    "nx.draw(T)\n",
    "plt.show()"
   ]
  },
  {
   "cell_type": "code",
   "execution_count": 37,
   "id": "ed8c0a8f-4d8b-4360-bf8c-043fabe43bb6",
   "metadata": {},
   "outputs": [
    {
     "data": {
      "image/png": "[encoded data removed]",
      "text/plain": [
       "<Figure size 432x288 with 1 Axes>"
      ]
     },
     "metadata": {},
     "output_type": "display_data"
    }
   ],
   "source": [
    "T.add_edge(1,1)\n",
    "\n",
    "nx.draw(T)\n",
    "plt.show()"
   ]
  },
  {
   "cell_type": "code",
   "execution_count": 42,
   "id": "f7f8ae99-3acf-41b5-984c-531aaa77ba2a",
   "metadata": {},
   "outputs": [
    {
     "ename": "TypeError",
     "evalue": "draw() takes 0 positional arguments but 1 was given",
     "output_type": "error",
     "traceback": [
      "\u001b[0;31m---------------------------------------------------------------------------\u001b[0m",
      "\u001b[0;31mTypeError\u001b[0m                                 Traceback (most recent call last)",
      "\u001b[0;32m/tmp/ipykernel_502/2725969457.py\u001b[0m in \u001b[0;36m<module>\u001b[0;34m\u001b[0m\n\u001b[1;32m      2\u001b[0m \u001b[0;34m\u001b[0m\u001b[0m\n\u001b[1;32m      3\u001b[0m \u001b[0map\u001b[0m \u001b[0;34m=\u001b[0m \u001b[0mnv\u001b[0m\u001b[0;34m.\u001b[0m\u001b[0mArcPlot\u001b[0m\u001b[0;34m(\u001b[0m\u001b[0mT\u001b[0m\u001b[0;34m)\u001b[0m\u001b[0;34m\u001b[0m\u001b[0;34m\u001b[0m\u001b[0m\n\u001b[0;32m----> 4\u001b[0;31m \u001b[0map\u001b[0m\u001b[0;34m.\u001b[0m\u001b[0mdraw\u001b[0m\u001b[0;34m(\u001b[0m\u001b[0;34m)\u001b[0m\u001b[0;34m\u001b[0m\u001b[0;34m\u001b[0m\u001b[0m\n\u001b[0m\u001b[1;32m      5\u001b[0m \u001b[0mplt\u001b[0m\u001b[0;34m.\u001b[0m\u001b[0mshow\u001b[0m\u001b[0;34m(\u001b[0m\u001b[0;34m)\u001b[0m\u001b[0;34m\u001b[0m\u001b[0;34m\u001b[0m\u001b[0m\n",
      "\u001b[0;31mTypeError\u001b[0m: draw() takes 0 positional arguments but 1 was given"
     ]
    },
    {
     "data": {
      "image/png": "[encoded data removed]",
      "text/plain": [
       "<Figure size 432x288 with 1 Axes>"
      ]
     },
     "metadata": {
      "needs_background": "light"
     },
     "output_type": "display_data"
    }
   ],
   "source": [
    "import nxviz as nv\n",
    "\n",
    "ap = nv.ArcPlot(T)\n",
    "ap.draw()\n",
    "plt.show()"
   ]
  },
  {
   "cell_type": "code",
   "execution_count": 44,
   "id": "58b67bdb-3136-42b0-b064-243735aa69fa",
   "metadata": {},
   "outputs": [
    {
     "ename": "TypeError",
     "evalue": "draw() takes 0 positional arguments but 1 was given",
     "output_type": "error",
     "traceback": [
      "\u001b[0;31m---------------------------------------------------------------------------\u001b[0m",
      "\u001b[0;31mTypeError\u001b[0m                                 Traceback (most recent call last)",
      "\u001b[0;32m/tmp/ipykernel_502/2563473590.py\u001b[0m in \u001b[0;36m<module>\u001b[0;34m\u001b[0m\n\u001b[1;32m      6\u001b[0m \u001b[0;34m\u001b[0m\u001b[0m\n\u001b[1;32m      7\u001b[0m \u001b[0;31m# Draw m to the screen\u001b[0m\u001b[0;34m\u001b[0m\u001b[0;34m\u001b[0m\u001b[0m\n\u001b[0;32m----> 8\u001b[0;31m \u001b[0mm\u001b[0m\u001b[0;34m.\u001b[0m\u001b[0mdraw\u001b[0m\u001b[0;34m(\u001b[0m\u001b[0;34m)\u001b[0m\u001b[0;34m\u001b[0m\u001b[0;34m\u001b[0m\u001b[0m\n\u001b[0m\u001b[1;32m      9\u001b[0m \u001b[0;34m\u001b[0m\u001b[0m\n\u001b[1;32m     10\u001b[0m \u001b[0;31m# Display the plot\u001b[0m\u001b[0;34m\u001b[0m\u001b[0;34m\u001b[0m\u001b[0m\n",
      "\u001b[0;31mTypeError\u001b[0m: draw() takes 0 positional arguments but 1 was given"
     ]
    },
    {
     "data": {
      "image/png": "[encoded data removed]",
      "text/plain": [
       "<Figure size 432x288 with 1 Axes>"
      ]
     },
     "metadata": {
      "needs_background": "light"
     },
     "output_type": "display_data"
    }
   ],
   "source": [
    "# Import nxviz\n",
    "import nxviz as nv\n",
    "\n",
    "# Create the MatrixPlot object: m\n",
    "m = nv.MatrixPlot(T)\n",
    "\n",
    "# Draw m to the screen\n",
    "m.draw()\n",
    "\n",
    "# Display the plot\n",
    "plt.show()\n",
    "\n",
    "# Convert T to a matrix format: A\n",
    "A = nx.to_numpy_matrix(T)\n",
    "\n",
    "# Convert A back to the NetworkX form as a directed graph: T_conv\n",
    "T_conv = nx.from_numpy_matrix(A, create_using=nx.DiGraph())\n",
    "\n",
    "# Check that the `category` metadata field is lost from each node\n",
    "for n, d in T_conv.nodes(data=True):\n",
    "    assert 'category' not in d.keys()"
   ]
  },
  {
   "cell_type": "code",
   "execution_count": 45,
   "id": "89519990-85e5-4d0f-aeb2-f320c5683423",
   "metadata": {},
   "outputs": [
    {
     "ename": "TypeError",
     "evalue": "draw() takes 0 positional arguments but 1 was given",
     "output_type": "error",
     "traceback": [
      "\u001b[0;31m---------------------------------------------------------------------------\u001b[0m",
      "\u001b[0;31mTypeError\u001b[0m                                 Traceback (most recent call last)",
      "\u001b[0;32m/tmp/ipykernel_502/1627923006.py\u001b[0m in \u001b[0;36m<module>\u001b[0;34m\u001b[0m\n\u001b[1;32m      7\u001b[0m \u001b[0;34m\u001b[0m\u001b[0m\n\u001b[1;32m      8\u001b[0m \u001b[0;31m# Draw c to the screen\u001b[0m\u001b[0;34m\u001b[0m\u001b[0;34m\u001b[0m\u001b[0m\n\u001b[0;32m----> 9\u001b[0;31m \u001b[0mc\u001b[0m\u001b[0;34m.\u001b[0m\u001b[0mdraw\u001b[0m\u001b[0;34m(\u001b[0m\u001b[0;34m)\u001b[0m\u001b[0;34m\u001b[0m\u001b[0;34m\u001b[0m\u001b[0m\n\u001b[0m\u001b[1;32m     10\u001b[0m \u001b[0;34m\u001b[0m\u001b[0m\n\u001b[1;32m     11\u001b[0m \u001b[0;31m# Display the plot\u001b[0m\u001b[0;34m\u001b[0m\u001b[0;34m\u001b[0m\u001b[0m\n",
      "\u001b[0;31mTypeError\u001b[0m: draw() takes 0 positional arguments but 1 was given"
     ]
    },
    {
     "data": {
      "image/png": "[encoded data removed]",
      "text/plain": [
       "<Figure size 432x288 with 1 Axes>"
      ]
     },
     "metadata": {
      "needs_background": "light"
     },
     "output_type": "display_data"
    }
   ],
   "source": [
    "# Import necessary modules\n",
    "import matplotlib.pyplot as plt\n",
    "import nxviz as nv\n",
    "\n",
    "# Create the CircosPlot object: c\n",
    "c = nv.CircosPlot(T)\n",
    "\n",
    "# Draw c to the screen\n",
    "c.draw()\n",
    "\n",
    "# Display the plot\n",
    "plt.show()\n"
   ]
  },
  {
   "cell_type": "markdown",
   "id": "36a48139-d072-44fb-a754-bee280367bec",
   "metadata": {},
   "source": [
    "#### Degree Centrality"
   ]
  },
  {
   "cell_type": "code",
   "execution_count": 53,
   "id": "991cb05b-489a-47e7-acd2-7ded8f65aeae",
   "metadata": {},
   "outputs": [
    {
     "name": "stdout",
     "output_type": "stream",
     "text": [
      "3\n",
      "4\n",
      "5\n",
      "1\n"
     ]
    }
   ],
   "source": [
    "for x in T.neighbors(1): print(x) "
   ]
  },
  {
   "cell_type": "code",
   "execution_count": 60,
   "id": "06305b15-cdd4-4761-bd16-fcd5479787fa",
   "metadata": {},
   "outputs": [
    {
     "data": {
      "text/plain": [
       "{1: 1.25, 2: 0.0, 3: 0.25, 4: 0.25, 5: 0.25}"
      ]
     },
     "execution_count": 60,
     "metadata": {},
     "output_type": "execute_result"
    }
   ],
   "source": [
    "nx.degree_centrality(T)"
   ]
  },
  {
   "cell_type": "markdown",
   "id": "126dc5f8-b79b-4dc7-bca2-92b09aafc352",
   "metadata": {},
   "source": [
    "#### betweenness centrality"
   ]
  },
  {
   "cell_type": "code",
   "execution_count": 59,
   "id": "afbf2005-22ba-4358-ab4e-93b1d4a85075",
   "metadata": {},
   "outputs": [
    {
     "data": {
      "text/plain": [
       "{1: 0.0, 2: 0.0, 3: 0.0, 4: 0.0, 5: 0.0}"
      ]
     },
     "execution_count": 59,
     "metadata": {},
     "output_type": "execute_result"
    }
   ],
   "source": [
    "nx.betweenness_centrality(T)"
   ]
  },
  {
   "cell_type": "code",
   "execution_count": 58,
   "id": "fd0f9d03-ca8e-4675-8b7f-e6e9c60d7987",
   "metadata": {},
   "outputs": [],
   "source": [
    "nodes = set()"
   ]
  },
  {
   "cell_type": "code",
   "execution_count": null,
   "id": "0ad57f34-4f33-4e72-9d17-2143e835a0ef",
   "metadata": {},
   "outputs": [],
   "source": [
    "nodes."
   ]
  }
 ],
 "metadata": {
  "kernelspec": {
   "display_name": "Python 3 (ipykernel)",
   "language": "python",
   "name": "python3"
  },
  "language_info": {
   "codemirror_mode": {
    "name": "ipython",
    "version": 3
   },
   "file_extension": ".py",
   "mimetype": "text/x-python",
   "name": "python",
   "nbconvert_exporter": "python",
   "pygments_lexer": "ipython3",
   "version": "3.9.7"
  }
 },
 "nbformat": 4,
 "nbformat_minor": 5
}
